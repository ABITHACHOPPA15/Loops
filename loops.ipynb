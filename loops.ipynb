{
 "cells": [
  {
   "cell_type": "markdown",
   "id": "31f4459e-d83a-4a77-b961-6513a29d2ebc",
   "metadata": {},
   "source": [
    "#LOOPS"
   ]
  },
  {
   "cell_type": "code",
   "execution_count": 1,
   "id": "fa0e2f3b-76f9-4746-a98b-c00951517562",
   "metadata": {},
   "outputs": [
    {
     "name": "stdout",
     "output_type": "stream",
     "text": [
      "hello\n",
      "hello\n"
     ]
    }
   ],
   "source": [
    "print(\"hello\")\n",
    "print(\"hello\")"
   ]
  },
  {
   "cell_type": "code",
   "execution_count": 2,
   "id": "50803899-d582-48f5-9f9e-989a2c4e92d1",
   "metadata": {},
   "outputs": [
    {
     "name": "stdout",
     "output_type": "stream",
     "text": [
      "1\n",
      "2\n"
     ]
    }
   ],
   "source": [
    "print(\"1\")\n",
    "print(\"2\")"
   ]
  },
  {
   "cell_type": "markdown",
   "id": "ce157a73-ae02-413a-bff6-c098f77e4381",
   "metadata": {},
   "source": [
    "#while loop"
   ]
  },
  {
   "cell_type": "code",
   "execution_count": 1,
   "id": "57f39231-c368-4197-a9fe-53ecd08a4769",
   "metadata": {},
   "outputs": [],
   "source": [
    "Start = 0\n",
    "End = 4"
   ]
  },
  {
   "cell_type": "code",
   "execution_count": 2,
   "id": "476aa147-a95f-441d-86ba-87cf9495a63b",
   "metadata": {},
   "outputs": [
    {
     "ename": "NameError",
     "evalue": "name 'end' is not defined",
     "output_type": "error",
     "traceback": [
      "\u001b[1;31m---------------------------------------------------------------------------\u001b[0m",
      "\u001b[1;31mNameError\u001b[0m                                 Traceback (most recent call last)",
      "Cell \u001b[1;32mIn[2], line 1\u001b[0m\n\u001b[1;32m----> 1\u001b[0m \u001b[38;5;28;01mwhile\u001b[39;00m Start\u001b[38;5;241m<\u001b[39m end:\n\u001b[0;32m      2\u001b[0m     \u001b[38;5;28mprint\u001b[39m(Start)\n",
      "\u001b[1;31mNameError\u001b[0m: name 'end' is not defined"
     ]
    }
   ],
   "source": [
    "while Start< end:\n",
    "    print(Start)"
   ]
  },
  {
   "cell_type": "code",
   "execution_count": 1,
   "id": "386413ab-a693-4b4d-960b-fb269d9071f7",
   "metadata": {},
   "outputs": [],
   "source": [
    "start = 0\n",
    "end = 4"
   ]
  },
  {
   "cell_type": "code",
   "execution_count": 2,
   "id": "4e495b21-335f-4002-a716-7fb7c86a99a5",
   "metadata": {},
   "outputs": [
    {
     "name": "stdout",
     "output_type": "stream",
     "text": [
      "start value is0\n",
      "end value is4\n",
      "Inside Loop\n",
      "start value is1\n",
      "end value is4\n",
      "Inside Loop\n",
      "start value is2\n",
      "end value is4\n",
      "Inside Loop\n",
      "start value is3\n",
      "end value is4\n",
      "Inside Loop\n"
     ]
    }
   ],
   "source": [
    "while start< end:\n",
    "    print(\"start value is\"+str(start))\n",
    "    print(\"end value is\"+str(end))\n",
    "    print(\"Inside Loop\")\n",
    "    start=start+1"
   ]
  },
  {
   "cell_type": "code",
   "execution_count": 3,
   "id": "26a83c7b-f7b8-45fd-8a97-aaf3c62e2b33",
   "metadata": {},
   "outputs": [
    {
     "data": {
      "text/plain": [
       "(4, 4)"
      ]
     },
     "execution_count": 3,
     "metadata": {},
     "output_type": "execute_result"
    }
   ],
   "source": [
    "start,end"
   ]
  },
  {
   "cell_type": "code",
   "execution_count": null,
   "id": "15f48d32-953b-4f1b-9db7-0e94020aced6",
   "metadata": {},
   "outputs": [],
   "source": []
  },
  {
   "cell_type": "code",
   "execution_count": 1,
   "id": "fe2302fb-3e97-4329-966f-c24ee39db6a0",
   "metadata": {},
   "outputs": [
    {
     "name": "stdout",
     "output_type": "stream",
     "text": [
      "start:0\n",
      "0\n",
      "start:1\n",
      "1\n",
      "start:2\n",
      "2\n",
      "start:3\n",
      "3\n",
      "start:4\n",
      "4\n",
      "start:5\n",
      "5\n",
      "start:6\n",
      "6\n",
      "start:7\n",
      "7\n",
      "start:8\n",
      "8\n",
      "start:9\n",
      "9\n",
      "start:10\n",
      "10\n",
      "start:11\n",
      "11\n",
      "start:12\n",
      "12\n",
      "start:13\n",
      "13\n",
      "start:14\n",
      "14\n",
      "start:15\n",
      "15\n",
      "start:16\n",
      "16\n",
      "start:17\n",
      "17\n",
      "start:18\n",
      "18\n",
      "start:19\n",
      "19\n",
      "start:20\n",
      "20\n",
      "start:21\n",
      "21\n",
      "start:22\n",
      "22\n",
      "start:23\n",
      "23\n",
      "start:24\n",
      "24\n",
      "start:25\n",
      "25\n",
      "start:26\n",
      "26\n",
      "start:27\n",
      "27\n",
      "start:28\n",
      "28\n",
      "start:29\n",
      "29\n",
      "start:30\n",
      "30\n",
      "start:31\n",
      "31\n",
      "start:32\n",
      "32\n",
      "start:33\n",
      "33\n",
      "start:34\n",
      "34\n",
      "start:35\n",
      "35\n",
      "start:36\n",
      "36\n",
      "start:37\n",
      "37\n",
      "start:38\n",
      "38\n",
      "start:39\n",
      "39\n",
      "start:40\n",
      "40\n",
      "start:41\n",
      "41\n",
      "start:42\n",
      "42\n",
      "start:43\n",
      "43\n",
      "start:44\n",
      "44\n",
      "start:45\n",
      "45\n",
      "start:46\n",
      "46\n",
      "start:47\n",
      "47\n",
      "start:48\n",
      "48\n",
      "start:49\n",
      "49\n",
      "start:50\n",
      "50\n",
      "start:51\n",
      "51\n",
      "start:52\n",
      "52\n",
      "start:53\n",
      "53\n",
      "start:54\n",
      "54\n",
      "start:55\n",
      "55\n",
      "start:56\n",
      "56\n",
      "start:57\n",
      "57\n",
      "start:58\n",
      "58\n",
      "start:59\n",
      "59\n",
      "start:60\n",
      "60\n",
      "start:61\n",
      "61\n",
      "start:62\n",
      "62\n",
      "start:63\n",
      "63\n",
      "start:64\n",
      "64\n",
      "start:65\n",
      "65\n",
      "start:66\n",
      "66\n",
      "start:67\n",
      "67\n",
      "start:68\n",
      "68\n",
      "start:69\n",
      "69\n",
      "start:70\n",
      "70\n",
      "start:71\n",
      "71\n",
      "start:72\n",
      "72\n",
      "start:73\n",
      "73\n",
      "start:74\n",
      "74\n",
      "start:75\n",
      "75\n",
      "start:76\n",
      "76\n",
      "start:77\n",
      "77\n",
      "start:78\n",
      "78\n",
      "start:79\n",
      "79\n",
      "start:80\n",
      "80\n",
      "start:81\n",
      "81\n",
      "start:82\n",
      "82\n",
      "start:83\n",
      "83\n",
      "start:84\n",
      "84\n",
      "start:85\n",
      "85\n",
      "start:86\n",
      "86\n",
      "start:87\n",
      "87\n",
      "start:88\n",
      "88\n",
      "start:89\n",
      "89\n",
      "start:90\n",
      "90\n",
      "start:91\n",
      "91\n",
      "start:92\n",
      "92\n",
      "start:93\n",
      "93\n",
      "start:94\n",
      "94\n",
      "start:95\n",
      "95\n",
      "start:96\n",
      "96\n",
      "start:97\n",
      "97\n",
      "start:98\n",
      "98\n",
      "start:99\n",
      "99\n"
     ]
    }
   ],
   "source": [
    "start=0\n",
    "end=100\n",
    "while start<end:\n",
    "    print(\"start:\"+str(start))\n",
    "    print(start)\n",
    "    #print(end)\n",
    "    start=start+1"
   ]
  },
  {
   "cell_type": "code",
   "execution_count": null,
   "id": "c3c027a9-22cf-4ae6-b237-0c5b5058b02a",
   "metadata": {},
   "outputs": [],
   "source": []
  },
  {
   "cell_type": "code",
   "execution_count": null,
   "id": "c5b65649-547a-430b-b9b9-127930646429",
   "metadata": {},
   "outputs": [],
   "source": []
  },
  {
   "cell_type": "code",
   "execution_count": 2,
   "id": "9c747321-a7a6-4b19-be14-688dd1410774",
   "metadata": {},
   "outputs": [
    {
     "name": "stdout",
     "output_type": "stream",
     "text": [
      "1\n",
      "i am out\n"
     ]
    }
   ],
   "source": [
    "start=1\n",
    "end=2\n",
    "while start<end and True:\n",
    "    print(start)\n",
    "    start=start+1\n",
    "    print(\"i am out\")"
   ]
  },
  {
   "cell_type": "code",
   "execution_count": 3,
   "id": "38aacc2b-50c6-4b49-aca0-07bb54ece6cc",
   "metadata": {},
   "outputs": [
    {
     "name": "stdout",
     "output_type": "stream",
     "text": [
      "1\n",
      "i am out\n"
     ]
    }
   ],
   "source": [
    "start=1\n",
    "end=2\n",
    "while start<end and True:\n",
    "    print(start)\n",
    "    start=start+1\n",
    "else:\n",
    "    print(\"i am out\")"
   ]
  },
  {
   "cell_type": "code",
   "execution_count": null,
   "id": "1a2079ae-d5a0-4a55-bd3f-a0a13ac40fac",
   "metadata": {},
   "outputs": [],
   "source": []
  }
 ],
 "metadata": {
  "kernelspec": {
   "display_name": "Python 3 (ipykernel)",
   "language": "python",
   "name": "python3"
  },
  "language_info": {
   "codemirror_mode": {
    "name": "ipython",
    "version": 3
   },
   "file_extension": ".py",
   "mimetype": "text/x-python",
   "name": "python",
   "nbconvert_exporter": "python",
   "pygments_lexer": "ipython3",
   "version": "3.11.7"
  }
 },
 "nbformat": 4,
 "nbformat_minor": 5
}
